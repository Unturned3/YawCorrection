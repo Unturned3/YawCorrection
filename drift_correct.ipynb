{
 "cells": [
  {
   "cell_type": "code",
   "execution_count": 1,
   "metadata": {},
   "outputs": [],
   "source": [
    "%load_ext autoreload\n",
    "%autoreload 2"
   ]
  },
  {
   "cell_type": "code",
   "execution_count": 2,
   "metadata": {},
   "outputs": [],
   "source": [
    "import numpy as np\n",
    "import matplotlib.pyplot as plt\n",
    "import cv2\n",
    "from tqdm import tqdm\n",
    "import subprocess"
   ]
  },
  {
   "cell_type": "code",
   "execution_count": 7,
   "metadata": {},
   "outputs": [
    {
     "name": "stdout",
     "output_type": "stream",
     "text": [
      "Select a ROI and then press SPACE or ENTER button!\n",
      "Cancel the selection process by pressing c button!\n",
      "(2891, 837, 251, 268)\n"
     ]
    }
   ],
   "source": [
    "DATA_DIR = '/Users/richard/Desktop/'\n",
    "\n",
    "renderer_path = '../PanoRenderer/build/main'\n",
    "input_vid_path = DATA_DIR + 'drift.mp4'\n",
    "trajs_path = 'trajs.npy'\n",
    "output_vid_path = 'out.mp4'\n",
    "\n",
    "\n",
    "cap = cv2.VideoCapture(input_vid_path)\n",
    "h = int(cap.get(cv2.CAP_PROP_FRAME_HEIGHT))\n",
    "w = int(cap.get(cv2.CAP_PROP_FRAME_WIDTH))\n",
    "\n",
    "n_frames = int(cap.get(cv2.CAP_PROP_FRAME_COUNT))\n",
    "\n",
    "hl = int(h/3)\n",
    "hu = hl + 200\n",
    "wl = int(w/2)\n",
    "wu = wl + 200\n",
    "\n",
    "# Create KCF tracker\n",
    "tracker = cv2.TrackerKCF_create()\n",
    "\n",
    "\n",
    "for i in range(0, n_frames, 60):\n",
    "\n",
    "    cap.set(cv2.CAP_PROP_POS_FRAMES, i)\n",
    "    ret, frame = cap.read()\n",
    "\n",
    "    if i == 0:\n",
    "        # Launch cv2 bbox selector on 0th frame\n",
    "        bbox = cv2.selectROI('Select ROI', frame, showCrosshair=True)\n",
    "        cv2.destroyAllWindows()\n",
    "        print(bbox)\n",
    "        break\n",
    "\n",
    "    # crop frame\n",
    "    frame = frame[hl:hu, wl:wu, :]\n",
    "\n",
    "    # If frame 0, then init tracker at center of frame.\n",
    "    if i == 0:\n",
    "        bbox = (0, 0, wu-wl, hu-hl)\n",
    "        tracker.init(frame, bbox)\n",
    "        continue\n",
    "\n",
    "    plt.imshow(frame)\n",
    "    plt.show()\n",
    "    break\n",
    "\n"
   ]
  }
 ],
 "metadata": {
  "kernelspec": {
   "display_name": "base",
   "language": "python",
   "name": "python3"
  },
  "language_info": {
   "codemirror_mode": {
    "name": "ipython",
    "version": 3
   },
   "file_extension": ".py",
   "mimetype": "text/x-python",
   "name": "python",
   "nbconvert_exporter": "python",
   "pygments_lexer": "ipython3",
   "version": "3.10.13"
  }
 },
 "nbformat": 4,
 "nbformat_minor": 2
}
