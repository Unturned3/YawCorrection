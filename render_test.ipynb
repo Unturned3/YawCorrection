{
 "cells": [
  {
   "cell_type": "code",
   "execution_count": 1,
   "metadata": {},
   "outputs": [],
   "source": [
    "%load_ext autoreload\n",
    "%autoreload 2"
   ]
  },
  {
   "cell_type": "code",
   "execution_count": 2,
   "metadata": {},
   "outputs": [],
   "source": [
    "import numpy as np\n",
    "import matplotlib.pyplot as plt\n",
    "import cv2\n",
    "from tqdm import tqdm\n",
    "import subprocess\n",
    "from pathlib import Path"
   ]
  },
  {
   "cell_type": "code",
   "execution_count": 14,
   "metadata": {},
   "outputs": [],
   "source": [
    "DATA_DIR = '/Users/richard/Desktop/Dataset/'\n",
    "\n",
    "renderer_path = '../PanoRenderer/build/main'\n",
    "input_vid_path = DATA_DIR + 'v046.mp4'\n",
    "input_yaw_corr_path = input_vid_path[:-4] + '-yc.npy'\n",
    "\n",
    "output_trajs_path = 'trajs.npy'\n",
    "output_vid_path = input_vid_path[:-4] + '-yc.mp4'\n",
    "\n",
    "hfov = 50\n",
    "yaw, pitch, roll = 180, 0, 0"
   ]
  },
  {
   "cell_type": "code",
   "execution_count": 15,
   "metadata": {},
   "outputs": [
    {
     "name": "stdout",
     "output_type": "stream",
     "text": [
      "trajs shape: (4913, 4)\n",
      "glDebugMessageCallback not available.\n",
      "Renderer return value: 0\n"
     ]
    }
   ],
   "source": [
    "cap = cv2.VideoCapture(input_vid_path)\n",
    "n_frames = int(cap.get(cv2.CAP_PROP_FRAME_COUNT))\n",
    "cap.release()\n",
    "\n",
    "trajs = np.array([[yaw, pitch, roll, hfov] for _ in range(n_frames-60)], dtype=np.float64)\n",
    "yaw_corr = np.load(input_yaw_corr_path)\n",
    "\n",
    "# apply yaw correction\n",
    "for i, e in enumerate(trajs):\n",
    "    e[0] += yaw_corr[i]\n",
    "\n",
    "print('trajs shape:', trajs.shape)\n",
    "\n",
    "np.save(output_trajs_path, trajs)\n",
    "\n",
    "render_cmd = [renderer_path, input_vid_path, output_trajs_path, output_vid_path]\n",
    "result = subprocess.run(render_cmd)\n",
    "\n",
    "print('Renderer return value:', result.returncode)"
   ]
  },
  {
   "cell_type": "code",
   "execution_count": null,
   "metadata": {},
   "outputs": [],
   "source": []
  }
 ],
 "metadata": {
  "kernelspec": {
   "display_name": "base",
   "language": "python",
   "name": "python3"
  },
  "language_info": {
   "codemirror_mode": {
    "name": "ipython",
    "version": 3
   },
   "file_extension": ".py",
   "mimetype": "text/x-python",
   "name": "python",
   "nbconvert_exporter": "python",
   "pygments_lexer": "ipython3",
   "version": "3.10.13"
  }
 },
 "nbformat": 4,
 "nbformat_minor": 2
}
